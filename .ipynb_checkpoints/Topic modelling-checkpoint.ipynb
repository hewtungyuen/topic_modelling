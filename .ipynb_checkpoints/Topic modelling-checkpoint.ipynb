{
 "cells": [
  {
   "cell_type": "markdown",
   "metadata": {},
   "source": [
    "# News topic modelling\n",
    "\n",
    "### Overview\n",
    "The aim of this project is to create a model to categorise news headlines into distinct topics.\n",
    "\n",
    "Source: https://www.kaggle.com/aaron7sun/stocknews"
   ]
  },
  {
   "cell_type": "markdown",
   "metadata": {},
   "source": [
    "##### Steps:\n",
    "\n",
    "1. Data cleaning\n",
    "2. Text processing\n",
    "3. Creating document term matrix\n",
    "4. Applying non-negative matrix factorization\n",
    "5. Retrieving topics and their corresponding keywords\n",
    "6. Determining ideal number of topics\n",
    "7. Assigning each news headline to a topic\n",
    "8. Manually assigning topic headings\n",
    "9. Predicting on a random news headline"
   ]
  },
  {
   "cell_type": "code",
   "execution_count": 1,
   "metadata": {},
   "outputs": [],
   "source": [
    "import numpy as np\n",
    "import pandas as pd"
   ]
  },
  {
   "cell_type": "code",
   "execution_count": 2,
   "metadata": {},
   "outputs": [],
   "source": [
    "df = pd.read_csv('RedditNews.csv')"
   ]
  },
  {
   "cell_type": "code",
   "execution_count": 3,
   "metadata": {},
   "outputs": [
    {
     "data": {
      "text/html": [
       "<div>\n",
       "<style scoped>\n",
       "    .dataframe tbody tr th:only-of-type {\n",
       "        vertical-align: middle;\n",
       "    }\n",
       "\n",
       "    .dataframe tbody tr th {\n",
       "        vertical-align: top;\n",
       "    }\n",
       "\n",
       "    .dataframe thead th {\n",
       "        text-align: right;\n",
       "    }\n",
       "</style>\n",
       "<table border=\"1\" class=\"dataframe\">\n",
       "  <thead>\n",
       "    <tr style=\"text-align: right;\">\n",
       "      <th></th>\n",
       "      <th>Date</th>\n",
       "      <th>News</th>\n",
       "    </tr>\n",
       "  </thead>\n",
       "  <tbody>\n",
       "    <tr>\n",
       "      <th>0</th>\n",
       "      <td>2016-07-01</td>\n",
       "      <td>A 117-year-old woman in Mexico City finally re...</td>\n",
       "    </tr>\n",
       "    <tr>\n",
       "      <th>1</th>\n",
       "      <td>2016-07-01</td>\n",
       "      <td>IMF chief backs Athens as permanent Olympic host</td>\n",
       "    </tr>\n",
       "    <tr>\n",
       "      <th>2</th>\n",
       "      <td>2016-07-01</td>\n",
       "      <td>The president of France says if Brexit won, so...</td>\n",
       "    </tr>\n",
       "    <tr>\n",
       "      <th>3</th>\n",
       "      <td>2016-07-01</td>\n",
       "      <td>British Man Who Must Give Police 24 Hours' Not...</td>\n",
       "    </tr>\n",
       "    <tr>\n",
       "      <th>4</th>\n",
       "      <td>2016-07-01</td>\n",
       "      <td>100+ Nobel laureates urge Greenpeace to stop o...</td>\n",
       "    </tr>\n",
       "  </tbody>\n",
       "</table>\n",
       "</div>"
      ],
      "text/plain": [
       "         Date                                               News\n",
       "0  2016-07-01  A 117-year-old woman in Mexico City finally re...\n",
       "1  2016-07-01   IMF chief backs Athens as permanent Olympic host\n",
       "2  2016-07-01  The president of France says if Brexit won, so...\n",
       "3  2016-07-01  British Man Who Must Give Police 24 Hours' Not...\n",
       "4  2016-07-01  100+ Nobel laureates urge Greenpeace to stop o..."
      ]
     },
     "execution_count": 3,
     "metadata": {},
     "output_type": "execute_result"
    }
   ],
   "source": [
    "df.head()"
   ]
  },
  {
   "cell_type": "markdown",
   "metadata": {},
   "source": [
    "### 1. Data cleaning"
   ]
  },
  {
   "cell_type": "code",
   "execution_count": 4,
   "metadata": {},
   "outputs": [
    {
     "data": {
      "text/plain": [
       "Date    0\n",
       "News    0\n",
       "dtype: int64"
      ]
     },
     "execution_count": 4,
     "metadata": {},
     "output_type": "execute_result"
    }
   ],
   "source": [
    "# Checking for null values\n",
    "df.isnull().sum()"
   ]
  },
  {
   "cell_type": "code",
   "execution_count": 5,
   "metadata": {},
   "outputs": [
    {
     "data": {
      "text/plain": [
       "73608"
      ]
     },
     "execution_count": 5,
     "metadata": {},
     "output_type": "execute_result"
    }
   ],
   "source": [
    "len(df)"
   ]
  },
  {
   "cell_type": "code",
   "execution_count": 6,
   "metadata": {},
   "outputs": [
    {
     "data": {
      "text/html": [
       "<div>\n",
       "<style scoped>\n",
       "    .dataframe tbody tr th:only-of-type {\n",
       "        vertical-align: middle;\n",
       "    }\n",
       "\n",
       "    .dataframe tbody tr th {\n",
       "        vertical-align: top;\n",
       "    }\n",
       "\n",
       "    .dataframe thead th {\n",
       "        text-align: right;\n",
       "    }\n",
       "</style>\n",
       "<table border=\"1\" class=\"dataframe\">\n",
       "  <thead>\n",
       "    <tr style=\"text-align: right;\">\n",
       "      <th></th>\n",
       "      <th>Date</th>\n",
       "      <th>News</th>\n",
       "    </tr>\n",
       "  </thead>\n",
       "  <tbody>\n",
       "    <tr>\n",
       "      <th>count</th>\n",
       "      <td>73608</td>\n",
       "      <td>73608</td>\n",
       "    </tr>\n",
       "    <tr>\n",
       "      <th>unique</th>\n",
       "      <td>2943</td>\n",
       "      <td>73537</td>\n",
       "    </tr>\n",
       "    <tr>\n",
       "      <th>top</th>\n",
       "      <td>2009-10-25</td>\n",
       "      <td>Iceland Declares Independence from Internation...</td>\n",
       "    </tr>\n",
       "    <tr>\n",
       "      <th>freq</th>\n",
       "      <td>50</td>\n",
       "      <td>3</td>\n",
       "    </tr>\n",
       "  </tbody>\n",
       "</table>\n",
       "</div>"
      ],
      "text/plain": [
       "              Date                                               News\n",
       "count        73608                                              73608\n",
       "unique        2943                                              73537\n",
       "top     2009-10-25  Iceland Declares Independence from Internation...\n",
       "freq            50                                                  3"
      ]
     },
     "execution_count": 6,
     "metadata": {},
     "output_type": "execute_result"
    }
   ],
   "source": [
    "df.describe()"
   ]
  },
  {
   "cell_type": "code",
   "execution_count": 7,
   "metadata": {},
   "outputs": [],
   "source": [
    "# Dropping duplicates\n",
    "df = df.drop_duplicates(subset = ['News'])"
   ]
  },
  {
   "cell_type": "code",
   "execution_count": 8,
   "metadata": {},
   "outputs": [
    {
     "data": {
      "text/plain": [
       "73537"
      ]
     },
     "execution_count": 8,
     "metadata": {},
     "output_type": "execute_result"
    }
   ],
   "source": [
    "len(df)"
   ]
  },
  {
   "cell_type": "code",
   "execution_count": 9,
   "metadata": {},
   "outputs": [],
   "source": [
    "df = df.drop('Date',axis = 1)"
   ]
  },
  {
   "cell_type": "code",
   "execution_count": 10,
   "metadata": {},
   "outputs": [
    {
     "data": {
      "text/html": [
       "<div>\n",
       "<style scoped>\n",
       "    .dataframe tbody tr th:only-of-type {\n",
       "        vertical-align: middle;\n",
       "    }\n",
       "\n",
       "    .dataframe tbody tr th {\n",
       "        vertical-align: top;\n",
       "    }\n",
       "\n",
       "    .dataframe thead th {\n",
       "        text-align: right;\n",
       "    }\n",
       "</style>\n",
       "<table border=\"1\" class=\"dataframe\">\n",
       "  <thead>\n",
       "    <tr style=\"text-align: right;\">\n",
       "      <th></th>\n",
       "      <th>News</th>\n",
       "    </tr>\n",
       "  </thead>\n",
       "  <tbody>\n",
       "    <tr>\n",
       "      <th>0</th>\n",
       "      <td>A 117-year-old woman in Mexico City finally re...</td>\n",
       "    </tr>\n",
       "    <tr>\n",
       "      <th>1</th>\n",
       "      <td>IMF chief backs Athens as permanent Olympic host</td>\n",
       "    </tr>\n",
       "    <tr>\n",
       "      <th>2</th>\n",
       "      <td>The president of France says if Brexit won, so...</td>\n",
       "    </tr>\n",
       "    <tr>\n",
       "      <th>3</th>\n",
       "      <td>British Man Who Must Give Police 24 Hours' Not...</td>\n",
       "    </tr>\n",
       "    <tr>\n",
       "      <th>4</th>\n",
       "      <td>100+ Nobel laureates urge Greenpeace to stop o...</td>\n",
       "    </tr>\n",
       "  </tbody>\n",
       "</table>\n",
       "</div>"
      ],
      "text/plain": [
       "                                                News\n",
       "0  A 117-year-old woman in Mexico City finally re...\n",
       "1   IMF chief backs Athens as permanent Olympic host\n",
       "2  The president of France says if Brexit won, so...\n",
       "3  British Man Who Must Give Police 24 Hours' Not...\n",
       "4  100+ Nobel laureates urge Greenpeace to stop o..."
      ]
     },
     "execution_count": 10,
     "metadata": {},
     "output_type": "execute_result"
    }
   ],
   "source": [
    "df.head()"
   ]
  },
  {
   "cell_type": "code",
   "execution_count": 11,
   "metadata": {},
   "outputs": [
    {
     "data": {
      "text/plain": [
       "73537"
      ]
     },
     "execution_count": 11,
     "metadata": {},
     "output_type": "execute_result"
    }
   ],
   "source": [
    "# Removing blank inputs\n",
    "blanks = []  \n",
    "\n",
    "for i,a in df.itertuples():  \n",
    "    if type(a)==str:            \n",
    "        if a.isspace():        \n",
    "            blanks.append(i)    \n",
    "\n",
    "\n",
    "df = df.drop(blanks)\n",
    "\n",
    "len(df)"
   ]
  },
  {
   "cell_type": "markdown",
   "metadata": {},
   "source": [
    "### 2. Text processing"
   ]
  },
  {
   "cell_type": "code",
   "execution_count": 12,
   "metadata": {},
   "outputs": [
    {
     "name": "stderr",
     "output_type": "stream",
     "text": [
      "[nltk_data] Downloading package wordnet to\n",
      "[nltk_data]     C:\\Users\\hewtu\\AppData\\Roaming\\nltk_data...\n",
      "[nltk_data]   Package wordnet is already up-to-date!\n"
     ]
    }
   ],
   "source": [
    "import string \n",
    "import nltk\n",
    "nltk.download('wordnet')\n",
    "\n",
    "from nltk.stem import WordNetLemmatizer\n",
    "from nltk.stem.porter import PorterStemmer"
   ]
  },
  {
   "cell_type": "code",
   "execution_count": 13,
   "metadata": {},
   "outputs": [],
   "source": [
    "# Function to remove punctuation\n",
    "def remove_punc(text):\n",
    "    no_punc = ''.join([w for w in text if w not in string.punctuation])\n",
    "    return no_punc\n",
    "\n",
    "# Function to lemmatize words \n",
    "lemma = WordNetLemmatizer()\n",
    "def word_lemmatizer(text):\n",
    "    lemmas = [lemma.lemmatize(w) for w in text]\n",
    "    return lemmas\n",
    "    "
   ]
  },
  {
   "cell_type": "code",
   "execution_count": 14,
   "metadata": {},
   "outputs": [],
   "source": [
    "df['News'] = df['News'].apply(lambda x:remove_punc(x))\n",
    "\n",
    "df['News'] = df['News'].str.split(' ')\n",
    "\n",
    "df['News'] = df['News'].apply(lambda x: word_lemmatizer(x))\n",
    "\n",
    "df['News'] = df['News'].str.join(' ')"
   ]
  },
  {
   "cell_type": "code",
   "execution_count": 15,
   "metadata": {},
   "outputs": [
    {
     "data": {
      "text/plain": [
       "0    A 117yearold woman in Mexico City finally rece...\n",
       "1       IMF chief back Athens a permanent Olympic host\n",
       "2    The president of France say if Brexit won so c...\n",
       "3    British Man Who Must Give Police 24 Hours Noti...\n",
       "4    100 Nobel laureate urge Greenpeace to stop opp...\n",
       "Name: News, dtype: object"
      ]
     },
     "execution_count": 15,
     "metadata": {},
     "output_type": "execute_result"
    }
   ],
   "source": [
    "df['News'].head()"
   ]
  },
  {
   "cell_type": "markdown",
   "metadata": {},
   "source": [
    "### 3. Creating document term matrix"
   ]
  },
  {
   "cell_type": "markdown",
   "metadata": {},
   "source": [
    "A document term matrix is a mathematical matrix that describes the frequency of terms that occur in a collection of documents. Rows correspond to documents in the collection and columns correspond to terms. In our case, rows correspond to the news headlines. "
   ]
  },
  {
   "cell_type": "code",
   "execution_count": 16,
   "metadata": {},
   "outputs": [],
   "source": [
    "# Count vectorization + tfidf \n",
    "from sklearn.feature_extraction.text import TfidfVectorizer"
   ]
  },
  {
   "cell_type": "code",
   "execution_count": 17,
   "metadata": {},
   "outputs": [],
   "source": [
    "# max_df = 0.85 : words present in more than 85% of the data will be removed\n",
    "# min_df = 3    : words present less than 3 times in the data will be removed\n",
    "\n",
    "tfidf = TfidfVectorizer(max_df=0.85, min_df=3, stop_words='english')"
   ]
  },
  {
   "cell_type": "code",
   "execution_count": 18,
   "metadata": {},
   "outputs": [],
   "source": [
    "dtm = tfidf.fit_transform(df['News'])"
   ]
  },
  {
   "cell_type": "code",
   "execution_count": 19,
   "metadata": {},
   "outputs": [
    {
     "data": {
      "text/plain": [
       "(73537, 19143)"
      ]
     },
     "execution_count": 19,
     "metadata": {},
     "output_type": "execute_result"
    }
   ],
   "source": [
    "dtm.shape"
   ]
  },
  {
   "cell_type": "markdown",
   "metadata": {},
   "source": [
    "### 4. Applying non-negative matrix factorization"
   ]
  },
  {
   "cell_type": "code",
   "execution_count": 20,
   "metadata": {},
   "outputs": [],
   "source": [
    "from sklearn.decomposition import NMF"
   ]
  },
  {
   "cell_type": "code",
   "execution_count": 21,
   "metadata": {},
   "outputs": [
    {
     "data": {
      "text/plain": [
       "NMF(n_components=15, random_state=101)"
      ]
     },
     "execution_count": 21,
     "metadata": {},
     "output_type": "execute_result"
    }
   ],
   "source": [
    "nmf_model = NMF(n_components=15,random_state=101)     # n_components represents number of topics \n",
    "nmf_model.fit(dtm)"
   ]
  },
  {
   "cell_type": "code",
   "execution_count": 22,
   "metadata": {},
   "outputs": [
    {
     "data": {
      "text/plain": [
       "(15, 19143)"
      ]
     },
     "execution_count": 22,
     "metadata": {},
     "output_type": "execute_result"
    }
   ],
   "source": [
    "nmf_model.components_.shape"
   ]
  },
  {
   "cell_type": "markdown",
   "metadata": {},
   "source": [
    "### 5. Retrieving topics and their corresponding keywords"
   ]
  },
  {
   "cell_type": "markdown",
   "metadata": {},
   "source": [
    "nnf_model.components_ is a n by m matrix. n = number of topics, m = total vocabulary. \n",
    "\n",
    "Values in the matrix are numbers, where a larger number means a proportionate increase in the presence of the word.\n",
    "\n",
    "argsort() sorts numeric values, returning the indexes of the values in ascending order. Thus, topic.argsort()[-15:] will return the indexes of the top 15 most common words for the topic.\n",
    "Using list comprehension, we are able to then use tfidf.get_feature_names() to return the actual keywords. "
   ]
  },
  {
   "cell_type": "code",
   "execution_count": 23,
   "metadata": {},
   "outputs": [
    {
     "name": "stdout",
     "output_type": "stream",
     "text": [
      "Top 15 words for topic #1\n",
      "['german', 'european', 'right', 'state', 'law', 'internet', 'prime', 'court', 'said', 'minister', 'uk', 'president', 'country', 'government', 'ha']\n",
      "\n",
      "\n",
      "Top 15 words for topic #2\n",
      "['rocket', 'border', 'threatens', 'military', 'koreas', 'test', 'nuclear', 'launch', 'bnorth', 'kim', 'missile', 'korean', 'south', 'north', 'korea']\n",
      "\n",
      "\n",
      "Top 15 words for topic #3\n",
      "['jerusalem', 'peace', 'aid', 'jewish', 'bisrael', 'rocket', 'settlement', 'west', 'bank', 'palestinians', 'hamas', 'palestinian', 'israeli', 'gaza', 'israel']\n",
      "\n",
      "\n",
      "Top 15 words for topic #4\n",
      "['troop', 'soldier', 'islamic', 'state', 'air', 'military', 'iraq', 'people', 'force', 'kill', 'syrian', 'strike', 'isis', 'syria', 'killed']\n",
      "\n",
      "\n",
      "Top 15 words for topic #5\n",
      "['president', 'troop', 'moscow', 'crisis', 'warns', 'sanction', 'vladimir', 'crimea', 'nato', 'syria', 'military', 'putin', 'russian', 'ukraine', 'russia']\n",
      "\n",
      "\n",
      "Top 15 words for topic #6\n",
      "['cartel', 'warns', 'bisrael', 'cold', 'end', 'bthe', 'gaza', 'mexican', 'afghanistan', 'civil', 'mexico', 'iraq', 'crime', 'drug', 'war']\n",
      "\n",
      "\n",
      "Top 15 words for topic #7\n",
      "['kong', 'water', 'build', 'hong', 'billion', 'chinas', 'beijing', 'island', 'oil', 'south', 'india', 'sea', 'japan', 'chinese', 'china']\n",
      "\n",
      "\n",
      "Top 15 words for topic #8\n",
      "['program', 'test', 'sanction', 'talk', 'oil', 'iranian', 'reactor', 'deal', 'fukushima', 'weapon', 'japan', 'power', 'plant', 'nuclear', 'iran']\n",
      "\n",
      "\n",
      "Top 15 words for topic #9\n",
      "['wont', 'refugee', 'climate', 'pope', 'pm', 'human', 'president', 'chief', 'right', 'snowden', 'wa', 'minister', 'report', 'official', 'say']\n",
      "\n",
      "\n",
      "Top 15 words for topic #10\n",
      "['london', 'student', 'clash', 'shot', 'man', 'uk', 'video', 'dead', 'riot', 'arrested', 'arrest', 'protester', 'officer', 'protest', 'police']\n",
      "\n",
      "\n",
      "Top 15 words for topic #11\n",
      "['party', 'settlement', 'australia', 'set', 'study', 'japan', 'constitution', 'plan', 'earthquake', 'hit', 'times', 'york', 'law', 'zealand', 'new']\n",
      "\n",
      "\n",
      "Top 15 words for topic #12\n",
      "['population', 'food', 'report', 'india', 'bthe', 'oil', 'biggest', 'global', 'country', 'largest', 'cup', 'bbc', 'bank', 'news', 'world']\n",
      "\n",
      "\n",
      "Top 15 words for topic #13\n",
      "['20', 'life', 'face', 'girl', '10', 'jail', 'ago', 'time', 'sentenced', 'million', 'man', 'prison', 'old', 'wa', 'year']\n",
      "\n",
      "\n",
      "Top 15 words for topic #14\n",
      "['sentenced', 'india', 'rape', 'sex', 'court', 'men', 'man', 'human', 'ban', 'child', 'right', 'death', 'arabia', 'saudi', 'woman']\n",
      "\n",
      "\n",
      "Top 15 words for topic #15\n",
      "['drone', 'planning', 'mumbai', 'india', 'taliban', 'kill', 'arrested', 'embassy', 'bomb', 'suicide', 'paris', 'terrorist', 'terror', 'pakistan', 'attack']\n",
      "\n",
      "\n"
     ]
    }
   ],
   "source": [
    "for index,topic in enumerate(nmf_model.components_):\n",
    "    print(f'Top 15 words for topic #{index + 1}')\n",
    "    print([tfidf.get_feature_names()[i] for i in topic.argsort()[-15:]])\n",
    "    print('\\n')"
   ]
  },
  {
   "cell_type": "markdown",
   "metadata": {},
   "source": [
    "### 6. Determining ideal number of topics"
   ]
  },
  {
   "cell_type": "code",
   "execution_count": 24,
   "metadata": {},
   "outputs": [],
   "source": [
    "topic_vocab = []\n",
    "string = ''\n",
    "for index,topic in enumerate(nmf_model.components_):\n",
    "    vocab = [tfidf.get_feature_names()[i] for i in topic.argsort()[-15:]]   \n",
    "    string = ' '.join(vocab)   \n",
    "    topic_vocab.append(string)"
   ]
  },
  {
   "cell_type": "code",
   "execution_count": 25,
   "metadata": {},
   "outputs": [],
   "source": [
    "topic_words = pd.DataFrame(topic_vocab)"
   ]
  },
  {
   "cell_type": "code",
   "execution_count": 26,
   "metadata": {},
   "outputs": [
    {
     "data": {
      "text/html": [
       "<div>\n",
       "<style scoped>\n",
       "    .dataframe tbody tr th:only-of-type {\n",
       "        vertical-align: middle;\n",
       "    }\n",
       "\n",
       "    .dataframe tbody tr th {\n",
       "        vertical-align: top;\n",
       "    }\n",
       "\n",
       "    .dataframe thead th {\n",
       "        text-align: right;\n",
       "    }\n",
       "</style>\n",
       "<table border=\"1\" class=\"dataframe\">\n",
       "  <thead>\n",
       "    <tr style=\"text-align: right;\">\n",
       "      <th></th>\n",
       "      <th>0</th>\n",
       "    </tr>\n",
       "  </thead>\n",
       "  <tbody>\n",
       "    <tr>\n",
       "      <th>0</th>\n",
       "      <td>german european right state law internet prime...</td>\n",
       "    </tr>\n",
       "    <tr>\n",
       "      <th>1</th>\n",
       "      <td>rocket border threatens military koreas test n...</td>\n",
       "    </tr>\n",
       "    <tr>\n",
       "      <th>2</th>\n",
       "      <td>jerusalem peace aid jewish bisrael rocket sett...</td>\n",
       "    </tr>\n",
       "    <tr>\n",
       "      <th>3</th>\n",
       "      <td>troop soldier islamic state air military iraq ...</td>\n",
       "    </tr>\n",
       "    <tr>\n",
       "      <th>4</th>\n",
       "      <td>president troop moscow crisis warns sanction v...</td>\n",
       "    </tr>\n",
       "    <tr>\n",
       "      <th>5</th>\n",
       "      <td>cartel warns bisrael cold end bthe gaza mexica...</td>\n",
       "    </tr>\n",
       "    <tr>\n",
       "      <th>6</th>\n",
       "      <td>kong water build hong billion chinas beijing i...</td>\n",
       "    </tr>\n",
       "    <tr>\n",
       "      <th>7</th>\n",
       "      <td>program test sanction talk oil iranian reactor...</td>\n",
       "    </tr>\n",
       "    <tr>\n",
       "      <th>8</th>\n",
       "      <td>wont refugee climate pope pm human president c...</td>\n",
       "    </tr>\n",
       "    <tr>\n",
       "      <th>9</th>\n",
       "      <td>london student clash shot man uk video dead ri...</td>\n",
       "    </tr>\n",
       "    <tr>\n",
       "      <th>10</th>\n",
       "      <td>party settlement australia set study japan con...</td>\n",
       "    </tr>\n",
       "    <tr>\n",
       "      <th>11</th>\n",
       "      <td>population food report india bthe oil biggest ...</td>\n",
       "    </tr>\n",
       "    <tr>\n",
       "      <th>12</th>\n",
       "      <td>20 life face girl 10 jail ago time sentenced m...</td>\n",
       "    </tr>\n",
       "    <tr>\n",
       "      <th>13</th>\n",
       "      <td>sentenced india rape sex court men man human b...</td>\n",
       "    </tr>\n",
       "    <tr>\n",
       "      <th>14</th>\n",
       "      <td>drone planning mumbai india taliban kill arres...</td>\n",
       "    </tr>\n",
       "  </tbody>\n",
       "</table>\n",
       "</div>"
      ],
      "text/plain": [
       "                                                    0\n",
       "0   german european right state law internet prime...\n",
       "1   rocket border threatens military koreas test n...\n",
       "2   jerusalem peace aid jewish bisrael rocket sett...\n",
       "3   troop soldier islamic state air military iraq ...\n",
       "4   president troop moscow crisis warns sanction v...\n",
       "5   cartel warns bisrael cold end bthe gaza mexica...\n",
       "6   kong water build hong billion chinas beijing i...\n",
       "7   program test sanction talk oil iranian reactor...\n",
       "8   wont refugee climate pope pm human president c...\n",
       "9   london student clash shot man uk video dead ri...\n",
       "10  party settlement australia set study japan con...\n",
       "11  population food report india bthe oil biggest ...\n",
       "12  20 life face girl 10 jail ago time sentenced m...\n",
       "13  sentenced india rape sex court men man human b...\n",
       "14  drone planning mumbai india taliban kill arres..."
      ]
     },
     "execution_count": 26,
     "metadata": {},
     "output_type": "execute_result"
    }
   ],
   "source": [
    "topic_words"
   ]
  },
  {
   "cell_type": "code",
   "execution_count": 27,
   "metadata": {},
   "outputs": [],
   "source": [
    "import spacy\n",
    "nlp = spacy.load('en_core_web_md') "
   ]
  },
  {
   "cell_type": "code",
   "execution_count": 28,
   "metadata": {},
   "outputs": [],
   "source": [
    "cosine_similarity = []\n",
    "\n",
    "# Calculating cosine similarity for every topic against every other topic  \n",
    "for a in range(15):\n",
    "    score = []\n",
    "    \n",
    "    for b in range(15): \n",
    "        score.append(nlp(topic_words[0][a]).similarity(nlp(topic_words[0][b])))\n",
    "        \n",
    "    cosine_similarity.append(score)\n",
    "\n",
    "# Creating dataframe of similarity scores\n",
    "similarity_scores = pd.DataFrame(cosine_similarity)"
   ]
  },
  {
   "cell_type": "code",
   "execution_count": 29,
   "metadata": {},
   "outputs": [
    {
     "data": {
      "text/plain": [
       "<matplotlib.axes._subplots.AxesSubplot at 0x1343c20b048>"
      ]
     },
     "execution_count": 29,
     "metadata": {},
     "output_type": "execute_result"
    },
    {
     "data": {
      "image/png": "[encoded data removed]",
      "text/plain": [
       "<Figure size 864x864 with 2 Axes>"
      ]
     },
     "metadata": {
      "needs_background": "light"
     },
     "output_type": "display_data"
    }
   ],
   "source": [
    "import matplotlib.pyplot as plt\n",
    "import seaborn as sns\n",
    "\n",
    "plt.figure(figsize = (12,12))\n",
    "plt.title('Similarity score heatmap')\n",
    "sns.heatmap(similarity_scores,annot=True)"
   ]
  },
  {
   "cell_type": "markdown",
   "metadata": {},
   "source": [
    "After inspecting the heatmap and list of keywords, I observe that there are still topics that are similar to each other. Hence, I decided to reduce n_components to 10 to see if there is any improvement. "
   ]
  },
  {
   "cell_type": "code",
   "execution_count": 30,
   "metadata": {},
   "outputs": [
    {
     "name": "stdout",
     "output_type": "stream",
     "text": [
      "Top 15 words for topic #1\n",
      "['million', 'woman', 'right', 'president', 'people', 'court', 'uk', 'law', 'wa', 'country', 'government', 'world', 'new', 'year', 'ha']\n",
      "\n",
      "\n",
      "Top 15 words for topic #2\n",
      "['rocket', 'border', 'threatens', 'military', 'koreas', 'test', 'nuclear', 'launch', 'bnorth', 'kim', 'missile', 'korean', 'south', 'north', 'korea']\n",
      "\n",
      "\n",
      "Top 15 words for topic #3\n",
      "['peace', 'jerusalem', 'aid', 'jewish', 'bisrael', 'rocket', 'settlement', 'west', 'bank', 'palestinians', 'hamas', 'palestinian', 'israeli', 'gaza', 'israel']\n",
      "\n",
      "\n",
      "Top 15 words for topic #4\n",
      "['soldier', 'military', 'air', 'dead', 'iraq', 'people', 'syrian', 'force', 'strike', 'pakistan', 'isis', 'syria', 'kill', 'killed', 'attack']\n",
      "\n",
      "\n",
      "Top 15 words for topic #5\n",
      "['moscow', 'crisis', 'troop', 'warns', 'sanction', 'president', 'crimea', 'vladimir', 'nato', 'military', 'syria', 'putin', 'russian', 'ukraine', 'russia']\n",
      "\n",
      "\n",
      "Top 15 words for topic #6\n",
      "['nsa', 'wont', 'pope', 'refugee', 'pm', 'human', 'chief', 'prime', 'snowden', 'right', 'president', 'report', 'minister', 'official', 'say']\n",
      "\n",
      "\n",
      "Top 15 words for topic #7\n",
      "['bisrael', 'cold', 'warns', 'end', 'bthe', 'gaza', 'mexican', 'afghanistan', 'civil', 'mexico', 'world', 'iraq', 'crime', 'drug', 'war']\n",
      "\n",
      "\n",
      "Top 15 words for topic #8\n",
      "['kong', 'water', 'hong', 'billion', 'chinas', 'build', 'oil', 'beijing', 'island', 'south', 'india', 'sea', 'japan', 'chinese', 'china']\n",
      "\n",
      "\n",
      "Top 15 words for topic #9\n",
      "['sanction', 'talk', 'arabia', 'iranian', 'oil', 'saudi', 'fukushima', 'reactor', 'deal', 'weapon', 'japan', 'power', 'plant', 'nuclear', 'iran']\n",
      "\n",
      "\n",
      "Top 15 words for topic #10\n",
      "['uk', 'shot', 'wa', 'death', 'dead', 'video', 'riot', 'arrested', 'man', 'arrest', 'woman', 'officer', 'protester', 'protest', 'police']\n",
      "\n",
      "\n"
     ]
    }
   ],
   "source": [
    "nmf_model2 = NMF(n_components=10,random_state=101)\n",
    "nmf_model2.fit(dtm)\n",
    "\n",
    "for index,topic in enumerate(nmf_model2.components_):\n",
    "    print(f'Top 15 words for topic #{index + 1}')\n",
    "    print([tfidf.get_feature_names()[i] for i in topic.argsort()[-15:]])\n",
    "    print('\\n')"
   ]
  },
  {
   "cell_type": "code",
   "execution_count": 31,
   "metadata": {},
   "outputs": [
    {
     "data": {
      "text/plain": [
       "<matplotlib.axes._subplots.AxesSubplot at 0x1341852fc08>"
      ]
     },
     "execution_count": 31,
     "metadata": {},
     "output_type": "execute_result"
    },
    {
     "data": {
      "image/png": "[encoded data removed]",
      "text/plain": [
       "<Figure size 864x864 with 2 Axes>"
      ]
     },
     "metadata": {
      "needs_background": "light"
     },
     "output_type": "display_data"
    }
   ],
   "source": [
    "# Creating similarity score heatmap with n_components = 10\n",
    "topic_vocab = []\n",
    "string = ''\n",
    "for index,topic in enumerate(nmf_model2.components_):\n",
    "    vocab = [tfidf.get_feature_names()[i] for i in topic.argsort()[-15:]]\n",
    "    string = ' '.join(vocab)\n",
    "    topic_vocab.append(string)\n",
    "    \n",
    "topic_words = pd.DataFrame(topic_vocab)\n",
    "\n",
    "cosine_similarity = []\n",
    "for a in range(10):\n",
    "    score = []\n",
    "    \n",
    "    for b in range(10): \n",
    "        score.append(nlp(topic_words[0][a]).similarity(nlp(topic_words[0][b])))\n",
    "        \n",
    "    cosine_similarity.append(score)\n",
    "    \n",
    "similarity_scores = pd.DataFrame(cosine_similarity)\n",
    "\n",
    "plt.figure(figsize = (12,12))\n",
    "plt.title('Similarity score heatmap')\n",
    "sns.heatmap(similarity_scores,annot=True)"
   ]
  },
  {
   "cell_type": "markdown",
   "metadata": {},
   "source": [
    "### 7. Assigning each news headline to a topic"
   ]
  },
  {
   "cell_type": "code",
   "execution_count": 32,
   "metadata": {},
   "outputs": [],
   "source": [
    "topic = nmf_model2.transform(dtm)"
   ]
  },
  {
   "cell_type": "code",
   "execution_count": 33,
   "metadata": {},
   "outputs": [
    {
     "data": {
      "text/plain": [
       "(73537, 10)"
      ]
     },
     "execution_count": 33,
     "metadata": {},
     "output_type": "execute_result"
    }
   ],
   "source": [
    "topic.shape"
   ]
  },
  {
   "cell_type": "markdown",
   "metadata": {},
   "source": [
    "The rows in the matrix above represents the news headlines, while the columns represents the topic.\n",
    "\n",
    "Values in the matrix represents the probability of the news headline falling under that particular column's topic. \n",
    "\n",
    "Thus, using argmax(axis=1) will return the topic which the news headline is most likely to fall under."
   ]
  },
  {
   "cell_type": "code",
   "execution_count": 34,
   "metadata": {},
   "outputs": [
    {
     "data": {
      "text/plain": [
       "array([0.01224518, 0.        , 0.        , 0.00302463, 0.        ,\n",
       "       0.        , 0.00329448, 0.        , 0.        , 0.00634519])"
      ]
     },
     "execution_count": 34,
     "metadata": {},
     "output_type": "execute_result"
    }
   ],
   "source": [
    "topic[0]"
   ]
  },
  {
   "cell_type": "markdown",
   "metadata": {},
   "source": [
    "For instance, the first news headline has the highest probability of being in topic 1."
   ]
  },
  {
   "cell_type": "code",
   "execution_count": 35,
   "metadata": {},
   "outputs": [],
   "source": [
    "df['Topic'] = topic.argmax(axis=1)"
   ]
  },
  {
   "cell_type": "markdown",
   "metadata": {},
   "source": [
    "### 8. Manually assigning topic headings"
   ]
  },
  {
   "cell_type": "code",
   "execution_count": 36,
   "metadata": {},
   "outputs": [],
   "source": [
    "df['Topic'] = df['Topic'].map({0:'Politics', \n",
    "                               1:'Nuclear tension involving North Korea', \n",
    "                               2:'Conflict in Palestine', \n",
    "                               3:'Terrorism', \n",
    "                               4:'Conflict in Russia', \n",
    "                               5:'Refugees', \n",
    "                               6:'Civil war, drugs, crime', \n",
    "                               7:'Conflict among China, Japan, Taiwan, Hong Kong', \n",
    "                               8:'Nuclear power, oil', \n",
    "                               9:'Riots and protests'})"
   ]
  },
  {
   "cell_type": "markdown",
   "metadata": {},
   "source": [
    "### 9. Predicting on a random news headline"
   ]
  },
  {
   "cell_type": "code",
   "execution_count": 37,
   "metadata": {},
   "outputs": [],
   "source": [
    "from random import randint"
   ]
  },
  {
   "cell_type": "code",
   "execution_count": 38,
   "metadata": {},
   "outputs": [],
   "source": [
    "rand_int = randint(0,len(df))"
   ]
  },
  {
   "cell_type": "code",
   "execution_count": 39,
   "metadata": {},
   "outputs": [
    {
     "data": {
      "text/plain": [
       "20338"
      ]
     },
     "execution_count": 39,
     "metadata": {},
     "output_type": "execute_result"
    }
   ],
   "source": [
    "rand_int"
   ]
  },
  {
   "cell_type": "code",
   "execution_count": 41,
   "metadata": {},
   "outputs": [
    {
     "name": "stdout",
     "output_type": "stream",
     "text": [
      "Topic:  Terrorism\n",
      " \n",
      "News headline:  60 People Taken Hostage In Ukraines East\n"
     ]
    }
   ],
   "source": [
    "print('Topic: ', df['Topic'][rand_int])\n",
    "print(' ')\n",
    "print('News headline: ', df['News'][rand_int])"
   ]
  },
  {
   "cell_type": "code",
   "execution_count": null,
   "metadata": {},
   "outputs": [],
   "source": []
  }
 ],
 "metadata": {
  "kernelspec": {
   "display_name": "Python 3",
   "language": "python",
   "name": "python3"
  },
  "language_info": {
   "codemirror_mode": {
    "name": "ipython",
    "version": 3
   },
   "file_extension": ".py",
   "mimetype": "text/x-python",
   "name": "python",
   "nbconvert_exporter": "python",
   "pygments_lexer": "ipython3",
   "version": "3.8.6"
  }
 },
 "nbformat": 4,
 "nbformat_minor": 4
}
